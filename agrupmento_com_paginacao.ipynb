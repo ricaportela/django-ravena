{
 "cells": [
  {
   "cell_type": "code",
   "execution_count": 12,
   "metadata": {},
   "outputs": [],
   "source": [
    "#!/usr/bin/env python\n",
    "# coding: utf-8\n",
    "import json\n",
    "import requests\n",
    "import pandas as pd\n",
    "\n",
    "termos = [\"Puma\", \"Handroanthus\", \"Ursus\"]\n",
    "\n",
    "# url = \"http://api.gbif.org/v1/species/search\"\n",
    "# params = {'q': termos[1]}\n",
    "# resp = requests.get(url, params=params)\n",
    "# results = resp.json()['results']\n",
    "# context = {'context': json.dumps(results)}\n",
    "\n",
    "# print(context)\n"
   ]
  },
  {
   "cell_type": "code",
   "execution_count": 9,
   "metadata": {},
   "outputs": [
    {
     "name": "stdout",
     "output_type": "stream",
     "text": [
      "0\n",
      "20\n",
      "40\n",
      "60\n",
      "80\n",
      "100\n",
      "120\n",
      "140\n",
      "160\n",
      "180\n",
      "200\n",
      "220\n",
      "240\n",
      "260\n",
      "280\n",
      "300\n",
      "320\n",
      "340\n",
      "360\n",
      "380\n",
      "400\n",
      "420\n",
      "440\n",
      "460\n",
      "480\n",
      "500\n",
      "520\n",
      "540\n",
      "560\n",
      "580\n",
      "600\n",
      "620\n"
     ]
    }
   ],
   "source": [
    "end_of_records = False\n",
    "previous_offset = previous_limit = offset = 0\n",
    "total_results = []\n",
    "url = \"http://api.gbif.org/v1/species/search\"\n",
    "\n",
    "while not end_of_records:\n",
    "    offset = previous_offset + previous_limit\n",
    "    params = {'q': termos[0], 'offset': offset}\n",
    "    resp = requests.get(url, params=params)\n",
    "\n",
    "    for result in resp.json()['results']:\n",
    "        total_results.append({\"scientificName\": result.get(\"scientificName\"),\n",
    "                              \"taxonomicStatus\": result.get(\"taxonomicStatus\", \"sem conteudo\"),\n",
    "                              \"rank\": result.get(\"rank\", \"no rank\")})\n",
    "\n",
    "    previous_offset = int(resp.json()['offset'])\n",
    "    previous_limit = int(resp.json()['limit'])\n",
    "    end_of_records = bool(resp.json()['endOfRecords'])\n",
    "\n",
    "#\n",
    "# Aqui eu tenho total_results completo.\n",
    "# Chamar pandas.\n",
    "# ...\n",
    "# retornar resultado pro usuário.\n"
   ]
  },
  {
   "cell_type": "code",
   "execution_count": 13,
   "metadata": {},
   "outputs": [],
   "source": [
    "df = pd.DataFrame(total_results)"
   ]
  },
  {
   "cell_type": "code",
   "execution_count": 15,
   "metadata": {},
   "outputs": [],
   "source": [
    "especies = df.sort_values(['taxonomicStatus'], ascending=True).groupby(['taxonomicStatus'])['scientificName'] "
   ]
  },
  {
   "cell_type": "code",
   "execution_count": 18,
   "metadata": {},
   "outputs": [],
   "source": [
    "pd.set_option('display.expand_frame_repr', False)\n",
    "pd.set_option('display.max_rows', None)"
   ]
  },
  {
   "cell_type": "code",
   "execution_count": 20,
   "metadata": {},
   "outputs": [
    {
     "data": {
      "text/plain": [
       "pandas.core.series.Series"
      ]
     },
     "execution_count": 20,
     "metadata": {},
     "output_type": "execute_result"
    }
   ],
   "source": [
    "type(especies.value_counts())"
   ]
  },
  {
   "cell_type": "code",
   "execution_count": null,
   "metadata": {},
   "outputs": [],
   "source": []
  }
 ],
 "metadata": {
  "kernelspec": {
   "display_name": "Python 3.8.0 64-bit ('.venv': venv)",
   "language": "python",
   "name": "python38064bitvenvvenva0f9126c37094e858133aeb55e31424c"
  },
  "language_info": {
   "codemirror_mode": {
    "name": "ipython",
    "version": 3
   },
   "file_extension": ".py",
   "mimetype": "text/x-python",
   "name": "python",
   "nbconvert_exporter": "python",
   "pygments_lexer": "ipython3",
   "version": "3.8.0"
  }
 },
 "nbformat": 4,
 "nbformat_minor": 4
}
